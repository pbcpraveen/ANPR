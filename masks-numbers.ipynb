{
 "cells": [
  {
   "cell_type": "code",
   "execution_count": 9,
   "metadata": {},
   "outputs": [],
   "source": [
    "import cv2\n",
    "import numpy as np\n",
    "\n",
    "import os\n",
    "import imutils"
   ]
  },
  {
   "cell_type": "code",
   "execution_count": 12,
   "metadata": {},
   "outputs": [],
   "source": [
    "ix = 0\n",
    "iy = 0\n",
    "click = 0# mouse callback function\n",
    "def draw_contour(event,x,y,flags,param):\n",
    "    global ix,iy,ix1,iy1,count,click\n",
    "    if event == cv2.EVENT_LBUTTONDOWN:\n",
    "        #cv2.circle(img,(x,y),100,(255,0,0),-1)\n",
    "        ix,iy = x,y\n",
    "        click  = 1"
   ]
  },
  {
   "cell_type": "code",
   "execution_count": 13,
   "metadata": {},
   "outputs": [
    {
     "ename": "KeyboardInterrupt",
     "evalue": "",
     "output_type": "error",
     "traceback": [
      "\u001b[0;31m---------------------------------------------------------------------------\u001b[0m",
      "\u001b[0;31mKeyboardInterrupt\u001b[0m                         Traceback (most recent call last)",
      "\u001b[0;32m<ipython-input-13-04f917c4ae91>\u001b[0m in \u001b[0;36m<module>\u001b[0;34m()\u001b[0m\n\u001b[1;32m     26\u001b[0m             \u001b[0mclick\u001b[0m \u001b[0;34m=\u001b[0m \u001b[0;36m0\u001b[0m\u001b[0;34m\u001b[0m\u001b[0m\n\u001b[1;32m     27\u001b[0m         \u001b[0mcv2\u001b[0m\u001b[0;34m.\u001b[0m\u001b[0mimshow\u001b[0m\u001b[0;34m(\u001b[0m\u001b[0;34m'mask'\u001b[0m\u001b[0;34m,\u001b[0m\u001b[0mmask\u001b[0m\u001b[0;34m)\u001b[0m\u001b[0;34m\u001b[0m\u001b[0m\n\u001b[0;32m---> 28\u001b[0;31m         \u001b[0mk\u001b[0m \u001b[0;34m=\u001b[0m \u001b[0mcv2\u001b[0m\u001b[0;34m.\u001b[0m\u001b[0mwaitKey\u001b[0m\u001b[0;34m(\u001b[0m\u001b[0;36m1\u001b[0m\u001b[0;34m)\u001b[0m\u001b[0;34m\u001b[0m\u001b[0m\n\u001b[0m\u001b[1;32m     29\u001b[0m         \u001b[0;31m#print(k)\u001b[0m\u001b[0;34m\u001b[0m\u001b[0;34m\u001b[0m\u001b[0m\n\u001b[1;32m     30\u001b[0m         \u001b[0;32mif\u001b[0m \u001b[0mk\u001b[0m \u001b[0;34m==\u001b[0m \u001b[0;36m82\u001b[0m\u001b[0;34m:\u001b[0m\u001b[0;34m\u001b[0m\u001b[0m\n",
      "\u001b[0;31mKeyboardInterrupt\u001b[0m: "
     ]
    }
   ],
   "source": [
    "os.mkdir('number_masks')\n",
    "os.mkdir('number')\n",
    "for i in os.listdir('plates/'):\n",
    "    ix,iy = -1,-1\n",
    "    th = 127\n",
    "    count = 0\n",
    "    dc = 0\n",
    "    u=0\n",
    "    img = cv2.imread('plates/'+i,0)\n",
    "    img = cv2.resize(img,(1000,500))\n",
    "    cv2.namedWindow('image')\n",
    "    cv2.setMouseCallback('image',draw_contour)\n",
    "    mask = np.zeros((len(img),len(img[0]),3),dtype =np.uint8 )\n",
    "    th = int(img.flatten().mean())\n",
    "    while(1):\n",
    "        ret,thresh = cv2.threshold(img,th,255,cv2.THRESH_BINARY)\n",
    "        can = cv2.Canny(thresh,50,100)\n",
    "        cv2.imshow('image',can)\n",
    "        cnts, hierarchy = cv2.findContours(can.copy(),  cv2.RETR_EXTERNAL, cv2.CHAIN_APPROX_NONE)  \n",
    "        cnts = sorted(cnts, key=cv2.contourArea)\n",
    "        if(click == 1):\n",
    "            for j in cnts:\n",
    "                dist = cv2.pointPolygonTest(j,(ix,iy),True)\n",
    "                if(dist>0):\n",
    "                    cv2.fillPoly(mask, pts =[j], color=(255,255,255))\n",
    "                    break\n",
    "            click = 0\n",
    "        cv2.imshow('mask',mask)\n",
    "        k = cv2.waitKey(1) \n",
    "        #print(k)\n",
    "        if k == 82:\n",
    "            th = (th+2)%256\n",
    "            print('hi')\n",
    "            u=1\n",
    "        if k == 84:\n",
    "            th = th-2\n",
    "            if(th<=0):\n",
    "                th = 2\n",
    "            u=1\n",
    "        if k == 27:\n",
    "            break\n",
    "        if k == 13:\n",
    "            dc = 1\n",
    "            break\n",
    "        elif k == ord('a'):\n",
    "            print(ix,iy)\n",
    "    cv2.imwrite('number/'+i,img)\n",
    "    cv2.imwrite('number_masks/mask_'+i,mask)\n",
    "    \n",
    "        \n",
    "cv2.destroyAllWindows()"
   ]
  },
  {
   "cell_type": "code",
   "execution_count": 14,
   "metadata": {},
   "outputs": [],
   "source": [
    "cv2.destroyAllWindows()"
   ]
  },
  {
   "cell_type": "code",
   "execution_count": null,
   "metadata": {},
   "outputs": [],
   "source": [
    "cnts"
   ]
  },
  {
   "cell_type": "code",
   "execution_count": null,
   "metadata": {},
   "outputs": [],
   "source": [
    "cnts = sorted(cnts, key=cv2.contourArea)"
   ]
  },
  {
   "cell_type": "code",
   "execution_count": null,
   "metadata": {},
   "outputs": [],
   "source": [
    "for i in cnts:\n",
    "    dist = cv2.pointPolygonTest(i,(200,200),True)\n",
    "    if(dist>0):\n",
    "        cv2.fillPoly(mask, pts =[i], color=(255,255,255))\n",
    "        break\n",
    "    else:\n",
    "        cv2.fillPoly(mask, pts =[i], color=(0,0,0))\n",
    "    while(1):\n",
    "        if(u==1):\n",
    "            ret,thresh = cv2.threshold(img,th,255,cv2.THRESH_BINARY)\n",
    "            can = cv2.Canny(thresh,50,100)\n",
    "            cnts, hierarchy = cv2.findContours(can.copy(),  cv2.RETR_EXTERNAL, cv2.CHAIN_APPROX_NONE)  \n",
    "            cnts = sorted(cnts, key=cv2.contourArea)\n",
    "            u=0\n",
    "        cv2.imshow('image',can)\n",
    "        if(click == 1):\n",
    "            print(click)\n",
    "            for i in cnts:\n",
    "                dist = cv2.pointPolygonTest(i,(ix,iy),True)\n",
    "                if(dist<0):\n",
    "                    cv2.fillPoly(can, pts =[i], color=(255,255,255))\n",
    "            click = 0\n",
    "        cv2.imshow('mask',mask)\n",
    "        k = cv2.waitKey(1) \n",
    "        if k == 24:\n",
    "            th = (th+2)%256\n",
    "            u=1\n",
    "        if k == 25:\n",
    "            th = th-2\n",
    "            if(th<=0):\n",
    "                th = 2\n",
    "            u=1\n",
    "        if k == 27:\n",
    "            break\n",
    "        if k == 13:\n",
    "            dc = 1\n",
    "            break\n",
    "        elif k == ord('a'):\n",
    "            print(ix,iy)\n",
    "cv2.imshow('mask',mask)\n",
    "cv2.waitKey(0)\n",
    "cv2.destroyAllWindows()"
   ]
  },
  {
   "cell_type": "code",
   "execution_count": null,
   "metadata": {},
   "outputs": [],
   "source": [
    "    while(1):\n",
    "        if(u==1):\n",
    "            ret,thresh = cv2.threshold(img,th,255,cv2.THRESH_BINARY)\n",
    "            can = cv2.Canny(thresh,50,100)\n",
    "            cnts, hierarchy = cv2.findContours(can.copy(),  cv2.RETR_EXTERNAL, cv2.CHAIN_APPROX_NONE)  \n",
    "            cnts = sorted(cnts, key=cv2.contourArea)\n",
    "            u=0\n",
    "        cv2.imshow('image',can)\n",
    "        if(click == 1):\n",
    "            print(click)\n",
    "            for i in cnts:\n",
    "                dist = cv2.pointPolygonTest(i,(ix,iy),True)\n",
    "                if(dist<0):\n",
    "                    cv2.fillPoly(can, pts =[i], color=(255,255,255))\n",
    "            click = 0\n",
    "        cv2.imshow('mask',mask)\n",
    "        k = cv2.waitKey(20) & 0xFF\n",
    "        if k == 24:\n",
    "            th = (th+2)%256\n",
    "            u=1\n",
    "        if k == 25:\n",
    "            th = th-2\n",
    "            if(th<=0):\n",
    "                th = 2\n",
    "            u=1\n",
    "        if k == 27:\n",
    "            break\n",
    "        if k == 13:\n",
    "            dc = 1\n",
    "            break\n",
    "        elif k == ord('a'):\n",
    "            print(ix,iy)\n",
    "    if dc!=1:\n",
    "        os.mkdir('masks1/'+i[:-4])\n",
    "        cv2.imwrite('masks1/'+i[:-4]+'/mask_'+i,mask)\n",
    "        cv2.imwrite('masks1/'+i[:-4]+'/'+i,img)\n"
   ]
  },
  {
   "cell_type": "code",
   "execution_count": 5,
   "metadata": {},
   "outputs": [],
   "source": [
    "cv2.imshow('image',img)\n",
    "k = cv2.waitKey(0) \n",
    "cv2.destroyAllWindows()"
   ]
  },
  {
   "cell_type": "code",
   "execution_count": 6,
   "metadata": {},
   "outputs": [
    {
     "data": {
      "text/plain": [
       "82"
      ]
     },
     "execution_count": 6,
     "metadata": {},
     "output_type": "execute_result"
    }
   ],
   "source": [
    "k"
   ]
  },
  {
   "cell_type": "code",
   "execution_count": null,
   "metadata": {},
   "outputs": [],
   "source": [
    "\n",
    "        if(click == 1):\n",
    "            print(click)\n",
    "            for i in cntsSorted:\n",
    "                dist = cv2.pointPolygonTest(i,(ix,iy),True)\n",
    "                print(dist)\n",
    "                if(dist<0):\n",
    "                    cv2.fillPoly(mask, pts =[i], color=(255,255,255))\n",
    "            click = 0\n",
    "        k = cv2.waitKey(20) & 0xFF"
   ]
  }
 ],
 "metadata": {
  "kernelspec": {
   "display_name": "Python 3",
   "language": "python",
   "name": "python3"
  },
  "language_info": {
   "codemirror_mode": {
    "name": "ipython",
    "version": 3
   },
   "file_extension": ".py",
   "mimetype": "text/x-python",
   "name": "python",
   "nbconvert_exporter": "python",
   "pygments_lexer": "ipython3",
   "version": "3.5.6"
  }
 },
 "nbformat": 4,
 "nbformat_minor": 2
}
