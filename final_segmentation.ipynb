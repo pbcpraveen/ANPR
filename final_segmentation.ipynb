{
 "cells": [
  {
   "cell_type": "code",
   "execution_count": 1,
   "metadata": {},
   "outputs": [
    {
     "name": "stdout",
     "output_type": "stream",
     "text": [
      "hello\n",
      "\n"
     ]
    }
   ],
   "source": [
    "import cv2\n",
    "from PIL import Image\n",
    "import pytesseract\n",
    "img = cv2.imread('plate.jpg',0)\n",
    "img = cv2.Canny(img,50,150)\n",
    "print('hello')\n",
    "pytesseract.tesseract_cmd = \"/home/praveen/anaconda3/envs/Tensorflow/bin/tesseract\"\n",
    "print(pytesseract.image_to_string(img))\n"
   ]
  },
  {
   "cell_type": "code",
   "execution_count": 7,
   "metadata": {},
   "outputs": [],
   "source": [
    "img = cv2.imread('plate.jpg',0)\n",
    "img = cv2.resize(img,(5*len(img[0]),5*len(img)),interpolation = cv2.INTER_CUBIC)"
   ]
  },
  {
   "cell_type": "code",
   "execution_count": 4,
   "metadata": {},
   "outputs": [
    {
     "name": "stdout",
     "output_type": "stream",
     "text": [
      "[[169 168 165 ... 130 114 108]\n",
      " [174 173 170 ... 124 107 101]\n",
      " [189 188 185 ... 108  88  80]\n",
      " ...\n",
      " [112 111 110 ... 105 102 101]\n",
      " [104 104 103 ... 106 102 101]\n",
      " [101 101 100 ... 107 102 101]]\n"
     ]
    }
   ],
   "source": [
    "print(img)"
   ]
  },
  {
   "cell_type": "code",
   "execution_count": 8,
   "metadata": {},
   "outputs": [],
   "source": [
    "cv2.imshow('plate',img)\n",
    "cv2.waitKey(0)\n",
    "cv2.destroyAllWindows()"
   ]
  },
  {
   "cell_type": "code",
   "execution_count": 21,
   "metadata": {},
   "outputs": [
    {
     "name": "stdout",
     "output_type": "stream",
     "text": [
      "169\n"
     ]
    }
   ],
   "source": [
    "print(img[0][0])"
   ]
  },
  {
   "cell_type": "code",
   "execution_count": 9,
   "metadata": {},
   "outputs": [],
   "source": [
    "for i in range(len(img)):\n",
    "    for j in range(len(img[i])):\n",
    "        if(img[i][j]>65 or img[i][j]<15):\n",
    "            img[i][j]=255\n",
    "        else:\n",
    "            img[i][j]=0"
   ]
  },
  {
   "cell_type": "code",
   "execution_count": 30,
   "metadata": {},
   "outputs": [],
   "source": [
    "cv2.imshow('plate',img)\n",
    "cv2.waitKey(0)\n",
    "cv2.destroyAllWindows()"
   ]
  },
  {
   "cell_type": "code",
   "execution_count": 10,
   "metadata": {},
   "outputs": [],
   "source": [
    "cannied = cv2.Canny(img,50,150)"
   ]
  },
  {
   "cell_type": "code",
   "execution_count": 12,
   "metadata": {},
   "outputs": [],
   "source": [
    "cv2.imshow('canny',cannied)\n",
    "cv2.waitKey(0)\n",
    "cv2.destroyAllWindows()"
   ]
  },
  {
   "cell_type": "code",
   "execution_count": 30,
   "metadata": {},
   "outputs": [],
   "source": [
    "contours,hirarchy = cv2.findContours( cannied,cv2.RETR_LIST, cv2.CHAIN_APPROX_NONE)\n",
    "i=0\n",
    "plate=cv2.imread('plate.jpg',0)\n",
    "plate = cv2.resize(img,(5*len(plate[0]),5*len(plate)),interpolation = cv2.INTER_CUBIC)\n",
    "backup=plate.copy()\n",
    "for c in contours:        \n",
    "    x,y,w,h=cv2.boundingRect(c)\n",
    "    #cv2.rectangle(backup,(x,y),(x+w,y+h),(60,255,40),1)\n",
    "    if(w*h>0 and w>30 and h>65):\n",
    "        file_name=\"OCRFILE/char\"+str(i)+\".jpg\"\n",
    "        char_image=img[y:y+h,x:x+w]\n",
    "        canny_img=cv2.Canny(char_image,30,200)\n",
    "        c,hi = cv2.findContours(canny_img, cv2.RETR_LIST, cv2.CHAIN_APPROX_NONE)\n",
    "        if(len(c)>=1 ):\n",
    "            cv2.imwrite(file_name,char_image)\n",
    "            i+=1\n",
    "            cv2.rectangle(backup,(x,y),(x+w,y+h),(60,255,40),1)\n",
    "cv2.imshow(\"character segmented plate\",backup)\n",
    "cv2.waitKey(0)\n",
    "cv2.destroyAllWindows()\n",
    "cv2.waitKey(0)\n",
    "cv2.destroyAllWindows()"
   ]
  },
  {
   "cell_type": "code",
   "execution_count": 36,
   "metadata": {},
   "outputs": [],
   "source": [
    "import os\n",
    "k = 0\n",
    "px = 0\n",
    "for i in os.listdir('OCRFILE'):\n",
    "    m = cv2.imread('OCRFILE/'+i,0)\n",
    "    h = len(m)\n",
    "    w = len(m[0])\n",
    "    if(w>=55):\n",
    "        px=0\n",
    "        n=w//40 +1\n",
    "        e=40\n",
    "        for i in range(n):\n",
    "            file_name=\"character/char\"+str(k)+\".jpg\"\n",
    "            w1=px+40\n",
    "            if(w1>w):\n",
    "                w1=w\n",
    "            char_image=m[0:h,px:w1]\n",
    "            k+=1\n",
    "            px=w1\n",
    "            cv2.imwrite(file_name,char_image)\n",
    "    else:\n",
    "        file_name=\"character/char\"+str(k)+\".jpg\"\n",
    "        k+=1\n",
    "        cv2.imwrite(file_name,m)"
   ]
  }
 ],
 "metadata": {
  "kernelspec": {
   "display_name": "Python 3",
   "language": "python",
   "name": "python3"
  },
  "language_info": {
   "codemirror_mode": {
    "name": "ipython",
    "version": 3
   },
   "file_extension": ".py",
   "mimetype": "text/x-python",
   "name": "python",
   "nbconvert_exporter": "python",
   "pygments_lexer": "ipython3",
   "version": "3.7.1"
  }
 },
 "nbformat": 4,
 "nbformat_minor": 2
}
